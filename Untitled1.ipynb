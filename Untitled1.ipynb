{
 "cells": [
  {
   "cell_type": "code",
   "execution_count": 1,
   "metadata": {},
   "outputs": [
    {
     "name": "stderr",
     "output_type": "stream",
     "text": [
      "Using TensorFlow backend.\n"
     ]
    }
   ],
   "source": [
    "import numpy as np\n",
    "import keras\n",
    "import matplotlib.pyplot as plt\n",
    "from keras.datasets import mnist\n",
    "from keras.models import Sequential\n",
    "from keras.layers import Dense, Dropout\n",
    "from keras.optimizers import RMSprop\n",
    "from keras.utils import to_categorical"
   ]
  },
  {
   "cell_type": "code",
   "execution_count": 2,
   "metadata": {},
   "outputs": [],
   "source": [
    "batch_size = 128\n",
    "num_classes = 10\n",
    "epochs = 20   #no of iterations\n",
    "# data, split btw train and test\n",
    "(x_train,y_train),(x_test,y_test) = mnist.load_data()"
   ]
  },
  {
   "cell_type": "code",
   "execution_count": 3,
   "metadata": {},
   "outputs": [
    {
     "name": "stdout",
     "output_type": "stream",
     "text": [
      "Training data shape :  (60000, 28, 28) (60000,)\n",
      "testing data shape  :  (10000, 28, 28) (10000,)\n",
      "#######################################################\n",
      "Total no of outputs :  10\n",
      "Output classes      :  [0 1 2 3 4 5 6 7 8 9]\n"
     ]
    }
   ],
   "source": [
    "print('Training data shape : ',x_train.shape,y_train.shape)\n",
    "print('testing data shape  : ',x_test.shape,y_test.shape)\n",
    "print('#'*55)\n",
    "\n",
    "#find the unique number from the train labels\n",
    "classes = np.unique(y_train)\n",
    "nclasses = len(classes)\n",
    "print('Total no of outputs : ',nclasses)\n",
    "print('Output classes      : ',classes)\n"
   ]
  },
  {
   "cell_type": "code",
   "execution_count": 4,
   "metadata": {},
   "outputs": [
    {
     "data": {
      "image/png": "[encoded data removed]",
      "text/plain": [
       "<Figure size 720x360 with 2 Axes>"
      ]
     },
     "metadata": {
      "needs_background": "light"
     },
     "output_type": "display_data"
    }
   ],
   "source": [
    "plt.figure(figsize = [10,5])\n",
    "\n",
    "#display the first image in training the data \n",
    "plt.subplot(121)\n",
    "plt.imshow(x_train[0,:,:],cmap = 'gray')\n",
    "plt.title(\"Ground Truth : {}\".format(y_train[0]))\n",
    "#Display the first image in testing data\n",
    "\n",
    "plt.subplot(122)\n",
    "plt.imshow(x_test[0,:,:],cmap = 'gray')\n",
    "plt.title(\"Ground Truth : {}\".format(y_test[0]))\n",
    "plt.show()\n"
   ]
  },
  {
   "cell_type": "code",
   "execution_count": 5,
   "metadata": {},
   "outputs": [],
   "source": [
    "#change to matrix to array of  dimention 28x28 to array of dimention 784\n",
    "\n",
    "x_train = x_train.reshape(60000,784)\n",
    "x_test = x_test.reshape(10000,784)"
   ]
  },
  {
   "cell_type": "code",
   "execution_count": 6,
   "metadata": {},
   "outputs": [],
   "source": [
    "#convert the data to float and scale the values between 0 to 1"
   ]
  },
  {
   "cell_type": "code",
   "execution_count": 7,
   "metadata": {},
   "outputs": [
    {
     "name": "stdout",
     "output_type": "stream",
     "text": [
      "60000 train sample\n",
      "10000 test samples\n"
     ]
    }
   ],
   "source": [
    "#change to float datatype\n",
    "x_train = x_train.astype('float32')\n",
    "x_test = x_test.astype('float32')\n",
    "\n",
    "#scale the data to lie between 0 to 1\n",
    "x_train /=255\n",
    "x_test /= 255\n",
    "\n",
    "print(x_train.shape[0],'train sample')\n",
    "print(x_test.shape[0],'test samples')"
   ]
  },
  {
   "cell_type": "code",
   "execution_count": 8,
   "metadata": {},
   "outputs": [
    {
     "name": "stdout",
     "output_type": "stream",
     "text": [
      "Original label 0 :  5\n",
      "After conversion to categorical (one - hot) :  [0. 0. 0. 0. 0. 1. 0. 0. 0. 0.]\n"
     ]
    }
   ],
   "source": [
    "print('Original label 0 : ',y_train[0])\n",
    "\n",
    "#convert class vectors to binary class matrices\n",
    "y_train = keras.utils.to_categorical(y_train, num_classes)\n",
    "y_test = keras.utils.to_categorical(y_test, num_classes)\n",
    "                                   \n",
    "\n",
    "#Display the change for chategory label using one-hot encoding\n",
    "print('After conversion to categorical (one - hot) : ',y_train[0])"
   ]
  },
  {
   "cell_type": "code",
   "execution_count": 9,
   "metadata": {},
   "outputs": [
    {
     "data": {
      "text/plain": [
       "(10000, 10)"
      ]
     },
     "execution_count": 9,
     "metadata": {},
     "output_type": "execute_result"
    }
   ],
   "source": [
    "y_test.shape"
   ]
  },
  {
   "cell_type": "code",
   "execution_count": null,
   "metadata": {},
   "outputs": [],
   "source": []
  },
  {
   "cell_type": "code",
   "execution_count": 12,
   "metadata": {},
   "outputs": [
    {
     "name": "stdout",
     "output_type": "stream",
     "text": [
      "_________________________________________________________________\n",
      "Layer (type)                 Output Shape              Param #   \n",
      "=================================================================\n",
      "dense_4 (Dense)              (None, 512)               401920    \n",
      "_________________________________________________________________\n",
      "dropout_2 (Dropout)          (None, 512)               0         \n",
      "_________________________________________________________________\n",
      "dense_5 (Dense)              (None, 512)               262656    \n",
      "_________________________________________________________________\n",
      "dropout_3 (Dropout)          (None, 512)               0         \n",
      "_________________________________________________________________\n",
      "dense_6 (Dense)              (None, 10)                5130      \n",
      "=================================================================\n",
      "Total params: 669,706\n",
      "Trainable params: 669,706\n",
      "Non-trainable params: 0\n",
      "_________________________________________________________________\n"
     ]
    }
   ],
   "source": [
    "model = Sequential()\n",
    "model.add(Dense(512,activation = 'relu',input_shape = (784,)))\n",
    "model.add(Dropout(0,2))\n",
    "model.add(Dense(512,activation = 'relu'))\n",
    "model.add(Dropout(0,2))\n",
    "model.add(Dense(num_classes,activation = 'softmax'))\n",
    "model.summary()"
   ]
  },
  {
   "cell_type": "code",
   "execution_count": 13,
   "metadata": {},
   "outputs": [],
   "source": [
    "model.compile(loss='categorical_crossentropy', optimizer = 'rmsprop', metrics=['accuracy'])"
   ]
  },
  {
   "cell_type": "code",
   "execution_count": 14,
   "metadata": {},
   "outputs": [],
   "source": [
    "#Train the Model"
   ]
  },
  {
   "cell_type": "code",
   "execution_count": 15,
   "metadata": {},
   "outputs": [
    {
     "name": "stdout",
     "output_type": "stream",
     "text": [
      "WARNING:tensorflow:From C:\\Users\\Amrut MP\\Anaconda3\\envs\\ai\\lib\\site-packages\\tensorflow\\python\\ops\\math_ops.py:3066: to_int32 (from tensorflow.python.ops.math_ops) is deprecated and will be removed in a future version.\n",
      "Instructions for updating:\n",
      "Use tf.cast instead.\n",
      "Train on 60000 samples, validate on 10000 samples\n",
      "Epoch 1/20\n",
      "60000/60000 [==============================] - 12s 193us/step - loss: 0.2242 - acc: 0.9311 - val_loss: 0.1022 - val_acc: 0.9681\n",
      "Epoch 2/20\n",
      "60000/60000 [==============================] - 8s 141us/step - loss: 0.0831 - acc: 0.9746 - val_loss: 0.0853 - val_acc: 0.9727\n",
      "Epoch 3/20\n",
      "60000/60000 [==============================] - 8s 136us/step - loss: 0.0558 - acc: 0.9826 - val_loss: 0.0832 - val_acc: 0.9765\n",
      "Epoch 4/20\n",
      "60000/60000 [==============================] - 9s 148us/step - loss: 0.0399 - acc: 0.9880 - val_loss: 0.0923 - val_acc: 0.9745\n",
      "Epoch 5/20\n",
      "60000/60000 [==============================] - 8s 137us/step - loss: 0.0298 - acc: 0.9907 - val_loss: 0.0752 - val_acc: 0.9806\n",
      "Epoch 6/20\n",
      "60000/60000 [==============================] - 8s 137us/step - loss: 0.0233 - acc: 0.9930 - val_loss: 0.0907 - val_acc: 0.9812\n",
      "Epoch 7/20\n",
      "60000/60000 [==============================] - 8s 140us/step - loss: 0.0199 - acc: 0.9942 - val_loss: 0.0971 - val_acc: 0.9805\n",
      "Epoch 8/20\n",
      "60000/60000 [==============================] - 8s 141us/step - loss: 0.0180 - acc: 0.9948 - val_loss: 0.0967 - val_acc: 0.9798\n",
      "Epoch 9/20\n",
      "60000/60000 [==============================] - 9s 143us/step - loss: 0.0138 - acc: 0.9956 - val_loss: 0.0982 - val_acc: 0.9823\n",
      "Epoch 10/20\n",
      "60000/60000 [==============================] - 9s 143us/step - loss: 0.0125 - acc: 0.9962 - val_loss: 0.1069 - val_acc: 0.9806\n",
      "Epoch 11/20\n",
      "60000/60000 [==============================] - 9s 151us/step - loss: 0.0110 - acc: 0.9970 - val_loss: 0.1169 - val_acc: 0.9809\n",
      "Epoch 12/20\n",
      "60000/60000 [==============================] - 11s 183us/step - loss: 0.0103 - acc: 0.9971 - val_loss: 0.1187 - val_acc: 0.9839\n",
      "Epoch 13/20\n",
      "60000/60000 [==============================] - 10s 164us/step - loss: 0.0098 - acc: 0.9973 - val_loss: 0.1175 - val_acc: 0.9817\n",
      "Epoch 14/20\n",
      "60000/60000 [==============================] - 9s 151us/step - loss: 0.0083 - acc: 0.9978 - val_loss: 0.1183 - val_acc: 0.9840\n",
      "Epoch 15/20\n",
      "60000/60000 [==============================] - 9s 144us/step - loss: 0.0087 - acc: 0.9977 - val_loss: 0.1367 - val_acc: 0.9819\n",
      "Epoch 16/20\n",
      "60000/60000 [==============================] - 9s 148us/step - loss: 0.0072 - acc: 0.9979 - val_loss: 0.1770 - val_acc: 0.9767\n",
      "Epoch 17/20\n",
      "60000/60000 [==============================] - 9s 149us/step - loss: 0.0078 - acc: 0.9979 - val_loss: 0.1440 - val_acc: 0.9808\n",
      "Epoch 18/20\n",
      "60000/60000 [==============================] - 9s 149us/step - loss: 0.0068 - acc: 0.9982 - val_loss: 0.1619 - val_acc: 0.9799\n",
      "Epoch 19/20\n",
      "60000/60000 [==============================] - 9s 151us/step - loss: 0.0066 - acc: 0.9986 - val_loss: 0.1545 - val_acc: 0.9818\n",
      "Epoch 20/20\n",
      "60000/60000 [==============================] - 9s 149us/step - loss: 0.0057 - acc: 0.9986 - val_loss: 0.1411 - val_acc: 0.9832\n"
     ]
    }
   ],
   "source": [
    "history = model.fit(x_train,y_train,\n",
    "                   batch_size = batch_size,\n",
    "                   epochs = epochs,\n",
    "                   verbose =1,\n",
    "                   validation_data=(x_test,y_test))"
   ]
  },
  {
   "cell_type": "code",
   "execution_count": 18,
   "metadata": {},
   "outputs": [
    {
     "name": "stdout",
     "output_type": "stream",
     "text": [
      "Test Loss : 0.14113300143329374\n",
      "Test accuracy :  0.9832\n"
     ]
    }
   ],
   "source": [
    "score = model.evaluate(x_test, y_test,verbose=0)\n",
    "print('Test Loss :',score[0])\n",
    "print('Test accuracy : ',score[1])"
   ]
  },
  {
   "cell_type": "code",
   "execution_count": 25,
   "metadata": {},
   "outputs": [
    {
     "data": {
      "text/plain": [
       "Text(0.5, 1.0, 'accuracy Curves')"
      ]
     },
     "execution_count": 25,
     "metadata": {},
     "output_type": "execute_result"
    },
    {
     "data": {
      "image/png": "[encoded data removed]",
      "text/plain": [
       "<Figure size 720x360 with 1 Axes>"
      ]
     },
     "metadata": {
      "needs_background": "light"
     },
     "output_type": "display_data"
    },
    {
     "data": {
      "image/png": "[encoded data removed]",
      "text/plain": [
       "<Figure size 720x360 with 1 Axes>"
      ]
     },
     "metadata": {
      "needs_background": "light"
     },
     "output_type": "display_data"
    }
   ],
   "source": [
    "\n",
    "#plot the Loss Curve\n",
    "plt.figure(figsize=[10,5])\n",
    "plt.plot(history.history['loss'],'r',linewidth=2.0)\n",
    "plt.plot(history.history['val_loss'],'b',linewidth=2.0)\n",
    "plt.legend(['Training Loss','Validation Loss'],fontsize=10)\n",
    "plt.xlabel('Epochs',fontsize=15)\n",
    "plt.ylabel('Loss',fontsize=15)\n",
    "plt.title('Loss Curves',fontsize=15)\n",
    "\n",
    "\n",
    "plt.figure(figsize=[10,5])\n",
    "plt.plot(history.history['acc'],'r',linewidth=2.0)\n",
    "plt.plot(history.history['val_acc'],'b',linewidth=2.0)\n",
    "plt.legend(['Training Accuracy','Validation accuracy'],fontsize=10)\n",
    "plt.xlabel('Epochs',fontsize=15)\n",
    "plt.ylabel('accuracy',fontsize=15)\n",
    "plt.title('accuracy Curves',fontsize=15)\n"
   ]
  },
  {
   "cell_type": "code",
   "execution_count": null,
   "metadata": {},
   "outputs": [],
   "source": []
  }
 ],
 "metadata": {
  "kernelspec": {
   "display_name": "Python 3",
   "language": "python",
   "name": "python3"
  },
  "language_info": {
   "codemirror_mode": {
    "name": "ipython",
    "version": 3
   },
   "file_extension": ".py",
   "mimetype": "text/x-python",
   "name": "python",
   "nbconvert_exporter": "python",
   "pygments_lexer": "ipython3",
   "version": "3.6.8"
  }
 },
 "nbformat": 4,
 "nbformat_minor": 2
}
